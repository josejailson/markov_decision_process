{
  "nbformat": 4,
  "nbformat_minor": 0,
  "metadata": {
    "colab": {
      "provenance": [],
      "authorship_tag": "ABX9TyNWTtg3/nR1eZU1LLbALhCJ",
      "include_colab_link": true
    },
    "kernelspec": {
      "name": "python3",
      "display_name": "Python 3"
    },
    "language_info": {
      "name": "python"
    }
  },
  "cells": [
    {
      "cell_type": "markdown",
      "metadata": {
        "id": "view-in-github",
        "colab_type": "text"
      },
      "source": [
        "<a href=\"https://colab.research.google.com/github/josejailson/markov_decision_process/blob/main/markov_decision_process.ipynb\" target=\"_parent\"><img src=\"https://colab.research.google.com/assets/colab-badge.svg\" alt=\"Open In Colab\"/></a>"
      ]
    },
    {
      "cell_type": "code",
      "source": [
        "transition_probabilities = [\n",
        "    [[0.7, 0.3, 0.0], [1.0, 0.0, 0.0], [0.8, 0.2, 0.0]],\n",
        "    [[0.0, 1.0, 0.0], None, [0.0, 0.0, 1.0]],\n",
        "    [None, [0.8, 0.1, 0.1], None]\n",
        "]\n",
        "\n",
        "rewards = [\n",
        "    [[+10,0,0], [0,0,0], [0,0,0]],\n",
        "    [[0,0,0], [0,0,0], [0,0,-50]],\n",
        "    [[0,0,0], [+40,0,0], [0,0,0]]\n",
        "]\n",
        "\n",
        "possible_actions = [[0,1,2], [0,2], [1]]"
      ],
      "metadata": {
        "id": "KM8fTrd2oDNH"
      },
      "execution_count": null,
      "outputs": []
    },
    {
      "cell_type": "code",
      "source": [
        "import numpy as np\n",
        "\n",
        "Q_values = np.full((3,3), -np.inf)\n",
        "for state, actions in enumerate(possible_actions):\n",
        "  Q_values[state, actions] = 0.0"
      ],
      "metadata": {
        "id": "DE2RuTKksgC2"
      },
      "execution_count": null,
      "outputs": []
    },
    {
      "cell_type": "code",
      "execution_count": null,
      "metadata": {
        "id": "PkfgDDA1ePxc"
      },
      "outputs": [],
      "source": [
        "gamma = 0.90\n",
        "\n",
        "for iteration in range(50):\n",
        "  Q_prev = Q_values.copy()\n",
        "  for s in range(3):\n",
        "    for a in possible_actions[s]:\n",
        "      Q_values[s,a] = np.sum([\n",
        "          transition_probabilities[s][a][sp]\n",
        "          *(rewards[s][a][sp] + gamma*Q_prev[sp].max())\n",
        "          for sp in range(3)])"
      ]
    },
    {
      "cell_type": "code",
      "source": [
        "Q_values"
      ],
      "metadata": {
        "colab": {
          "base_uri": "https://localhost:8080/"
        },
        "id": "IdLzHjcTuUt-",
        "outputId": "6f33501b-0d83-4885-fae6-cbe05bc30c06"
      },
      "execution_count": null,
      "outputs": [
        {
          "output_type": "execute_result",
          "data": {
            "text/plain": [
              "array([[18.91891892, 17.02702703, 13.62162162],\n",
              "       [ 0.        ,        -inf, -4.87971488],\n",
              "       [       -inf, 50.13365013,        -inf]])"
            ]
          },
          "metadata": {},
          "execution_count": 6
        }
      ]
    },
    {
      "cell_type": "code",
      "source": [
        "Q_values.argmax(axis=1)"
      ],
      "metadata": {
        "colab": {
          "base_uri": "https://localhost:8080/"
        },
        "id": "sR98UzFFu0Mm",
        "outputId": "9c2c88ab-7939-4958-bf2d-f54a0deb810b"
      },
      "execution_count": null,
      "outputs": [
        {
          "output_type": "execute_result",
          "data": {
            "text/plain": [
              "array([0, 0, 1])"
            ]
          },
          "metadata": {},
          "execution_count": 8
        }
      ]
    }
  ]
}